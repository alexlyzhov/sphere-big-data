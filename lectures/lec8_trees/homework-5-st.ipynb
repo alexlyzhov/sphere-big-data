{
 "cells": [
  {
   "cell_type": "markdown",
   "metadata": {},
   "source": [
    "# Домашнее задание 5. Линейные модели"
   ]
  },
  {
   "cell_type": "code",
   "execution_count": 1,
   "metadata": {
    "collapsed": false
   },
   "outputs": [],
   "source": [
    "%matplotlib inline\n",
    "import random as pr\n",
    "import numpy as np\n",
    "import pandas as pd\n",
    "import matplotlib.pyplot as pl\n",
    "import sklearn.metrics as sm\n",
    "from collections import defaultdict\n",
    "import random\n",
    "from scipy.special import expit\n",
    "from sklearn.model_selection import train_test_split\n",
    "import sklearn.linear_model"
   ]
  },
  {
   "cell_type": "markdown",
   "metadata": {},
   "source": [
    "Зачитываем результат 4 домашки"
   ]
  },
  {
   "cell_type": "code",
   "execution_count": 100,
   "metadata": {
    "collapsed": false,
    "scrolled": true
   },
   "outputs": [],
   "source": [
    "data = np.load(\"out_4.npz\")\n",
    "users = data[\"users\"].astype(np.int64)\n",
    "X_dataset = data[\"data\"].reshape(1,)[0]"
   ]
  },
  {
   "cell_type": "code",
   "execution_count": 65,
   "metadata": {
    "collapsed": false
   },
   "outputs": [
    {
     "data": {
      "text/plain": [
       "(11947, 201885)"
      ]
     },
     "execution_count": 65,
     "metadata": {},
     "output_type": "execute_result"
    }
   ],
   "source": [
    "X_dataset.shape"
   ]
  },
  {
   "cell_type": "markdown",
   "metadata": {},
   "source": [
    "Зачитываем категории пользователей"
   ]
  },
  {
   "cell_type": "code",
   "execution_count": 101,
   "metadata": {
    "collapsed": false
   },
   "outputs": [],
   "source": [
    "TRAINING_SET_URL = \"train.csv\"\n",
    "EXAMPLE_SET_URL = \"test.csv\"\n",
    "df_users_train = pd.read_csv(TRAINING_SET_URL, sep=\",\", header=0)\n",
    "df_users_ex = pd.read_csv(EXAMPLE_SET_URL, sep=\",\", header=0)\n",
    "df_users_ex['cls'] = None\n",
    "df_users = pd.concat([df_users_train, df_users_ex])"
   ]
  },
  {
   "cell_type": "code",
   "execution_count": 6,
   "metadata": {
    "collapsed": false
   },
   "outputs": [
    {
     "data": {
      "text/plain": [
       "(11947, 2)"
      ]
     },
     "execution_count": 6,
     "metadata": {},
     "output_type": "execute_result"
    }
   ],
   "source": [
    "df_users.shape"
   ]
  },
  {
   "cell_type": "markdown",
   "metadata": {},
   "source": [
    "Модель строим для пользователей из twitter_train, нужно выбрать этих пользователей из матрицы из 4 ДЗ:"
   ]
  },
  {
   "cell_type": "code",
   "execution_count": 68,
   "metadata": {
    "collapsed": false
   },
   "outputs": [
    {
     "data": {
      "text/plain": [
       "array([ 871169502,   48520595,  326956063, ..., 2395498116, 2295079410,\n",
       "       1908456235])"
      ]
     },
     "execution_count": 68,
     "metadata": {},
     "output_type": "execute_result"
    }
   ],
   "source": [
    "users"
   ]
  },
  {
   "cell_type": "code",
   "execution_count": 107,
   "metadata": {
    "collapsed": false,
    "scrolled": true
   },
   "outputs": [],
   "source": [
    "train_users_list = df_users_train['uid'].values\n",
    "train_mask = np.in1d(users, train_users_list)\n",
    "X = X_dataset[np.where(train_mask)]\n",
    "Xid = users[np.where(train_mask)]"
   ]
  },
  {
   "cell_type": "code",
   "execution_count": 108,
   "metadata": {
    "collapsed": true
   },
   "outputs": [],
   "source": [
    "res_users_list = df_users_ex['uid'].values\n",
    "res_mask = np.in1d(users, res_users_list)\n",
    "resX = X_dataset[np.where(res_mask)]\n",
    "resXid = users[np.where(res_mask)]"
   ]
  },
  {
   "cell_type": "code",
   "execution_count": 103,
   "metadata": {
    "collapsed": true
   },
   "outputs": [],
   "source": [
    "testsub = pd.read_csv('test_submission.csv', sep=\",\", header=0)"
   ]
  },
  {
   "cell_type": "markdown",
   "metadata": {},
   "source": [
    "Формируем целевую переменную: Делаем join списка пользователей из ДЗ4 с обучающей выборкой."
   ]
  },
  {
   "cell_type": "code",
   "execution_count": 109,
   "metadata": {
    "collapsed": false
   },
   "outputs": [],
   "source": [
    "Y = np.array([df_users_train[df_users_train['uid'] == uid]['cls'].values[0] for uid in Xid])"
   ]
  },
  {
   "cell_type": "code",
   "execution_count": 111,
   "metadata": {
    "collapsed": false
   },
   "outputs": [
    {
     "data": {
      "text/plain": [
       "(7199,)"
      ]
     },
     "execution_count": 111,
     "metadata": {},
     "output_type": "execute_result"
    }
   ],
   "source": [
    "Y.shape"
   ]
  },
  {
   "cell_type": "markdown",
   "metadata": {},
   "source": [
    "Чтобы исследовать, как ведут себя признаки, построим распределение количества ненулевых признаков у пользователей, чтобы убедиться, что он удовлетворяет закону Ципфа. Для этого построим гистограмму в логарифмических осях. [Подсказка](http://anokhin.github.io/img/sf1.png)"
   ]
  },
  {
   "cell_type": "code",
   "execution_count": 110,
   "metadata": {
    "collapsed": false
   },
   "outputs": [
    {
     "data": {
      "text/plain": [
       "(7199, 201885)"
      ]
     },
     "execution_count": 110,
     "metadata": {},
     "output_type": "execute_result"
    }
   ],
   "source": [
    "X.shape"
   ]
  },
  {
   "cell_type": "code",
   "execution_count": 113,
   "metadata": {
    "collapsed": true
   },
   "outputs": [],
   "source": [
    "freqs = defaultdict(int)\n",
    "for user in X:\n",
    "    user_words = len(user.data)\n",
    "    freqs[user_words] += 1\n",
    "\n",
    "fslist = [(s, freqs[s]) for s in freqs]\n",
    "sumslist = list(zip(*fslist)[0])\n",
    "freqslist = list(zip(*fslist)[1])"
   ]
  },
  {
   "cell_type": "code",
   "execution_count": 114,
   "metadata": {
    "collapsed": false
   },
   "outputs": [
    {
     "data": {
      "text/plain": [
       "<matplotlib.collections.PathCollection at 0x7f0f4cfca6d0>"
      ]
     },
     "execution_count": 114,
     "metadata": {},
     "output_type": "execute_result"
    },
    {
     "data": {
      "image/png": "[encoded data removed]",
      "text/plain": [
       "<matplotlib.figure.Figure at 0x7f0f4cee55d0>"
      ]
     },
     "metadata": {},
     "output_type": "display_data"
    }
   ],
   "source": [
    "pl.figure()\n",
    "ax = pl.gca()\n",
    "ax.set_yscale('log')\n",
    "ax.set_xscale('log')\n",
    "pl.xlabel('word count of user in 200 tweets')\n",
    "pl.ylabel('user frequency')\n",
    "pl.scatter(sumslist[1:], freqslist[1:])"
   ]
  },
  {
   "cell_type": "code",
   "execution_count": 115,
   "metadata": {
    "collapsed": false
   },
   "outputs": [
    {
     "data": {
      "image/png": "[encoded data removed]",
      "text/plain": [
       "<matplotlib.figure.Figure at 0x7f0f4d057b50>"
      ]
     },
     "metadata": {},
     "output_type": "display_data"
    }
   ],
   "source": [
    "def draw_log_hist(x):\n",
    "    \"\"\"Draw tokens histogram in log scales\"\"\"\n",
    "    freqs = defaultdict(int)\n",
    "    feature_counts = np.empty(x.shape[1])\n",
    "    for i, word in enumerate(x.T):\n",
    "        word_freq = len(word.data)\n",
    "        feature_counts[i] = word_freq\n",
    "        freqs[word_freq] += 1\n",
    "        \n",
    "    fslist = [(s, freqs[s]) for s in freqs]\n",
    "    wordfreqslist = list(zip(*fslist)[0])\n",
    "    freqscountlist = list(zip(*fslist)[1])\n",
    "    \n",
    "    pl.figure()\n",
    "    ax = pl.gca()\n",
    "    ax.set_yscale('log')\n",
    "    ax.set_xscale('log')\n",
    "    pl.xlabel('token frequency')\n",
    "    pl.ylabel('token count')\n",
    "    pl.scatter(wordfreqslist[1:], freqscountlist[1:])\n",
    "#     print(wordfreqslist[0], freqscountlist[0])\n",
    "    \n",
    "    return feature_counts\n",
    "\n",
    "feature_counts = draw_log_hist(X)"
   ]
  },
  {
   "cell_type": "markdown",
   "metadata": {},
   "source": [
    "Проведем отбор признаков. В самом простом случае просто удаляем признаки, имеющие ненулевое значение у менее, чем 100 пользователей."
   ]
  },
  {
   "cell_type": "code",
   "execution_count": 121,
   "metadata": {
    "collapsed": false
   },
   "outputs": [
    {
     "ename": "AttributeError",
     "evalue": "'numpy.ndarray' object has no attribute 'tocsc'",
     "output_type": "error",
     "traceback": [
      "\u001b[0;31m---------------------------------------------------------------------------\u001b[0m",
      "\u001b[0;31mAttributeError\u001b[0m                            Traceback (most recent call last)",
      "\u001b[0;32m<ipython-input-121-ea492b13c093>\u001b[0m in \u001b[0;36m<module>\u001b[0;34m()\u001b[0m\n\u001b[0;32m----> 1\u001b[0;31m \u001b[0mX\u001b[0m \u001b[0;34m=\u001b[0m \u001b[0mX\u001b[0m\u001b[0;34m.\u001b[0m\u001b[0mtocsc\u001b[0m\u001b[0;34m(\u001b[0m\u001b[0;34m)\u001b[0m\u001b[0;34m[\u001b[0m\u001b[0;34m:\u001b[0m\u001b[0;34m,\u001b[0m \u001b[0mfeature_counts\u001b[0m \u001b[0;34m>\u001b[0m \u001b[0;36m100\u001b[0m\u001b[0;34m]\u001b[0m\u001b[0;34m.\u001b[0m\u001b[0mtoarray\u001b[0m\u001b[0;34m(\u001b[0m\u001b[0;34m)\u001b[0m\u001b[0;34m\u001b[0m\u001b[0m\n\u001b[0m\u001b[1;32m      2\u001b[0m \u001b[0mresX\u001b[0m \u001b[0;34m=\u001b[0m \u001b[0mresX\u001b[0m\u001b[0;34m.\u001b[0m\u001b[0mtocsc\u001b[0m\u001b[0;34m(\u001b[0m\u001b[0;34m)\u001b[0m\u001b[0;34m[\u001b[0m\u001b[0;34m:\u001b[0m\u001b[0;34m,\u001b[0m \u001b[0mfeature_counts\u001b[0m \u001b[0;34m>\u001b[0m \u001b[0;36m100\u001b[0m\u001b[0;34m]\u001b[0m\u001b[0;34m.\u001b[0m\u001b[0mtoarray\u001b[0m\u001b[0;34m(\u001b[0m\u001b[0;34m)\u001b[0m\u001b[0;34m\u001b[0m\u001b[0m\n",
      "\u001b[0;31mAttributeError\u001b[0m: 'numpy.ndarray' object has no attribute 'tocsc'"
     ]
    }
   ],
   "source": [
    "X = X.tocsc()[:, feature_counts > 100].toarray()\n"
   ]
  },
  {
   "cell_type": "code",
   "execution_count": 122,
   "metadata": {
    "collapsed": true
   },
   "outputs": [],
   "source": [
    "resX = resX.tocsc()[:, feature_counts > 100].toarray()"
   ]
  },
  {
   "cell_type": "markdown",
   "metadata": {},
   "source": [
    "Вариант задания генерируется на основании вашего ника в техносфере."
   ]
  },
  {
   "cell_type": "code",
   "execution_count": 117,
   "metadata": {
    "collapsed": false
   },
   "outputs": [
    {
     "name": "stdout",
     "output_type": "stream",
     "text": [
      "My homework 5 algorithm is: Logistic regression with L1 regularization optimized by stochastic gradient descent\n"
     ]
    }
   ],
   "source": [
    "USER_NAME = \"l.aleksandr\"\n",
    "OPTIMIZATION_ALGORITHMS = [\"stochastic gradient descent\", \"Newton method\"]\n",
    "REGULARIZATIONS = [\"L1\", \"L2\"]\n",
    "\n",
    "print \"My homework 5 algorithm is: Logistic regression with %s regularization optimized by %s\" % (\n",
    "    REGULARIZATIONS[hash(USER_NAME) % 2],\n",
    "    OPTIMIZATION_ALGORITHMS[hash(USER_NAME[::-1]) % 2]\n",
    ")"
   ]
  },
  {
   "cell_type": "code",
   "execution_count": 118,
   "metadata": {
    "collapsed": true
   },
   "outputs": [],
   "source": [
    "def auroc(res, Y):\n",
    "    thresspace = np.linspace(1, 0, num = 51)\n",
    "    tpr = [np.mean((res[:, 1] > thr) & (Y == 1)) / np.mean(Y == 1) for thr in thresspace]\n",
    "    fpr = [np.mean((res[:, 1] > thr) & (Y == 0)) / np.mean(Y == 0) for thr in thresspace]\n",
    "    area = np.trapz(y = tpr, x = fpr)\n",
    "    return tpr, fpr, area"
   ]
  },
  {
   "cell_type": "code",
   "execution_count": 119,
   "metadata": {
    "collapsed": false
   },
   "outputs": [
    {
     "name": "stdout",
     "output_type": "stream",
     "text": [
      "0.562146476473\n"
     ]
    }
   ],
   "source": [
    "X_train, X_test, Y_train, Y_test = train_test_split(X, Y, test_size = 0.5)\n",
    "lr = sklearn.linear_model.LogisticRegression(penalty='l1', C = 1, tol = 0.001, max_iter = 1000).fit(X_train, Y_train)\n",
    "# lr = sklearn.linear_model.LogisticRegression().fit(X_train, Y_train)\n",
    "probs = lr.predict_proba(X_test)\n",
    "print(auroc(probs, Y_test)[2])"
   ]
  },
  {
   "cell_type": "code",
   "execution_count": 133,
   "metadata": {
    "collapsed": false
   },
   "outputs": [],
   "source": [
    "cheatlr = sklearn.linear_model.LogisticRegression(penalty='l1', C = 1, tol = 0.001, max_iter = 1000).fit(X, Y)\n",
    "probs = zip(*cheatlr.predict_proba(resX))[1]"
   ]
  },
  {
   "cell_type": "code",
   "execution_count": 128,
   "metadata": {
    "collapsed": false
   },
   "outputs": [
    {
     "data": {
      "text/plain": [
       "array([ 871169502,  435231062, 2742685950, ...,  569635263, 2395498116,\n",
       "       2295079410])"
      ]
     },
     "execution_count": 128,
     "metadata": {},
     "output_type": "execute_result"
    }
   ],
   "source": [
    "resXid"
   ]
  },
  {
   "cell_type": "code",
   "execution_count": 144,
   "metadata": {
    "collapsed": false
   },
   "outputs": [
    {
     "data": {
      "text/plain": [
       "0.67592147049247442"
      ]
     },
     "execution_count": 144,
     "metadata": {},
     "output_type": "execute_result"
    }
   ],
   "source": [
    "probs[np.where(resXid == 783836768)[0][0]]"
   ]
  },
  {
   "cell_type": "code",
   "execution_count": 149,
   "metadata": {
    "collapsed": false
   },
   "outputs": [],
   "source": [
    "testsub['newcls'] = testsub['uid'].map(lambda x: probs[np.where(resXid == x)[0][0]] if len(np.where(resXid == x)[0]) == 1 else None)"
   ]
  },
  {
   "cell_type": "code",
   "execution_count": 157,
   "metadata": {
    "collapsed": false
   },
   "outputs": [],
   "source": [
    "testsub.newcls.fillna(testsub.cls, inplace=True)"
   ]
  },
  {
   "cell_type": "code",
   "execution_count": 164,
   "metadata": {
    "collapsed": false
   },
   "outputs": [],
   "source": [
    "testsub = testsub[['uid', 'cls']]"
   ]
  },
  {
   "cell_type": "code",
   "execution_count": 166,
   "metadata": {
    "collapsed": false
   },
   "outputs": [],
   "source": [
    "testsub.to_csv('results.csv', sep =',', index=False)"
   ]
  },
  {
   "cell_type": "code",
   "execution_count": 96,
   "metadata": {
    "collapsed": false
   },
   "outputs": [],
   "source": [
    "result = np.concatenate((np.asarray(resXid, dtype=int).reshape(-1, 1),  np.asarray(res, dtype=float).reshape(-1, 1)), axis=1)\n",
    "np.savetxt('results.csv', result, fmt = '%d,%f', header='uid,cls', comments='')"
   ]
  },
  {
   "cell_type": "code",
   "execution_count": 286,
   "metadata": {
    "collapsed": false
   },
   "outputs": [
    {
     "name": "stdout",
     "output_type": "stream",
     "text": [
      "0.479507880737\n",
      "0.496480928726\n",
      "0.507192342853\n",
      "0.535978235728\n",
      "0.524914363759\n",
      "0.521554999945\n",
      "0.524352634072\n",
      "(10, 0.53597823572821091)\n"
     ]
    }
   ],
   "source": [
    "# just testing the dataset to see if the standard classifier does its work. It doesn't\n",
    "X_train, X_test, Y_train, Y_test = train_test_split(X, Y, test_size = 0.1)\n",
    "clist = [0.01, 0.1, 1, 10, 100, 1000, 10000]\n",
    "best_value = 0\n",
    "best_c = 0\n",
    "for c in clist:\n",
    "    probs = sklearn.linear_model.LogisticRegression(penalty='l1', C = c).fit(X_train, Y_train).predict_proba(X_test)\n",
    "    tpr, fpr, value = auroc(probs, Y_test)\n",
    "    print(value)\n",
    "    if value > best_value:\n",
    "        best_value = value\n",
    "        best_c = c\n",
    "print(best_c, best_value)"
   ]
  },
  {
   "cell_type": "markdown",
   "metadata": {},
   "source": [
    "Реализуем выбранный алгоритм"
   ]
  },
  {
   "cell_type": "code",
   "execution_count": 27,
   "metadata": {
    "collapsed": true
   },
   "outputs": [],
   "source": [
    "class LogisticRegression():\n",
    "    h = lambda self, elem: expit(self.theta[0] + np.dot(elem, self.theta[1:]))\n",
    "    \n",
    "    def fit(self, X, Y, alpha, c, iters):\n",
    "        self.theta = np.zeros(X.shape[1] + 1)\n",
    "        for it in xrange(50):\n",
    "            orig_theta = np.copy(self.theta)\n",
    "            i = random.randint(0, X.shape[0] - 1)\n",
    "            self.theta[0] -= alpha * ((self.h(X[i]) - Y[i]) + c / X.shape[0] * (sum(abs(self.theta[1:]))))\n",
    "            self.theta[1:] -= alpha * ((self.h(X[i]) - Y[i]) * X[i] + c / X.shape[0] * (sum(abs(self.theta[1:]))))\n",
    "        return self\n",
    "    \n",
    "    def predict_proba(self, X):\n",
    "#         print(self.theta)\n",
    "        res = self.h(X)\n",
    "        return np.array(zip(*(1 - res, res)))"
   ]
  },
  {
   "cell_type": "markdown",
   "metadata": {},
   "source": [
    "Реализуем метрику качества, используемую в соревновании: площадь под ROC кривой"
   ]
  },
  {
   "cell_type": "markdown",
   "metadata": {},
   "source": [
    "Разделим выборку с помощью методики кросс-валидации для того, чтобы настроить параметр регуляризации $C$"
   ]
  },
  {
   "cell_type": "code",
   "execution_count": 28,
   "metadata": {
    "collapsed": false
   },
   "outputs": [
    {
     "name": "stdout",
     "output_type": "stream",
     "text": [
      "0.297552331082\n",
      "0.226412796554\n",
      "0.286746480714\n",
      "0.185450641598\n",
      "0.263299104767\n",
      "0.199643644331\n",
      "0.296834953657\n",
      "0.256297094841\n",
      "0.214371947327\n",
      "0.195860013003\n",
      "0.196768749405\n",
      "0.244713060835\n",
      "0.264721192661\n",
      "0.217824020655\n",
      "0.158921788056\n",
      "0.226952331456\n",
      "0.132847897912\n",
      "0.178227729506\n",
      "0.250025352751\n",
      "0.19840964128\n",
      "0.16450420379\n",
      "0.213181601675\n",
      "0.171144531278\n",
      "0.140292955203\n",
      "0.193297647226\n",
      "0.206498430553\n",
      "0.148925473314\n",
      "0.174679019506\n",
      "0.184825712255\n",
      "0.178209100259\n",
      "0.11317890749\n",
      "0.169767087374\n",
      "0.195891831063\n",
      "0.115690225991\n",
      "0.137183010612\n",
      "0.194514152056\n",
      "0.12207992193\n",
      "0.195455848616\n",
      "0.205602956683\n",
      "0.107987378808\n",
      "0.147725671773\n",
      "0.172168975918\n",
      "0.146321829657\n",
      "0.246623265012\n",
      "0.161553467094\n",
      "0.154709316948\n",
      "0.14542780762\n",
      "0.127292639911\n",
      "0.191069930749\n",
      "0.0974856446973\n"
     ]
    }
   ],
   "source": [
    "X_train, X_test, Y_train, Y_test = train_test_split(X, Y, test_size = 0.1)\n",
    "probs = LogisticRegression().fit(X_train, Y_train, 0.00005, 0.1, 50).predict_proba(X_test)\n",
    "tpr, fpr, value = auroc(probs, Y_test)"
   ]
  },
  {
   "cell_type": "code",
   "execution_count": 202,
   "metadata": {
    "collapsed": false
   },
   "outputs": [
    {
     "name": "stdout",
     "output_type": "stream",
     "text": [
      "0.480859355102\n",
      "0.497312923437\n",
      "0.52053512302\n",
      "0.538223982477\n",
      "0.528303448627\n",
      "0.503591258723\n",
      "0.509392033009\n",
      "0.547628750446\n",
      "0.548596607407\n",
      "0.53115607967\n",
      "0.531824665071\n",
      "0.495561866436\n",
      "0.502897203403\n",
      "0.497879629158\n",
      "0.53095868779\n",
      "0.490697111711\n",
      "0.515090927614\n",
      "0.501286230961\n",
      "0.507449951607\n",
      "0.50000636748\n",
      "0.495294432275\n",
      "0.512180989252\n",
      "0.488239264429\n",
      "0.502502419642\n",
      "0.52059243034\n",
      "0.501617339922\n",
      "0.499363251999\n",
      "0.491314757272\n",
      "0.497503947838\n",
      "0.513524527533\n",
      "0.493053079313\n",
      "0.511200397331\n",
      "0.538032958077\n",
      "0.482470327543\n",
      "0.484004890225\n",
      "0.49959884876\n",
      "0.501369008201\n",
      "0.513499057613\n",
      "0.520286791299\n",
      "0.517574244817\n",
      "0.523075747542\n",
      "0.521413835261\n",
      "0.488220161989\n",
      "0.532531455351\n",
      "0.488322041669\n",
      "0.476828740258\n",
      "0.502362335082\n",
      "0.504686465284\n",
      "0.49984718048\n",
      "0.47911466558\n",
      "0.519516326219\n",
      "0.500630380521\n",
      "0.50990143141\n",
      "0.523126687382\n",
      "0.526667006266\n",
      "0.493072181753\n",
      "0.525374407824\n",
      "0.499013040599\n",
      "0.501630074882\n",
      "0.518529366818\n",
      "0.533155468392\n",
      "0.512505730732\n",
      "0.575581987673\n",
      "0.535689725434\n",
      "0.504686465284\n",
      "0.524298303703\n",
      "0.474752941776\n",
      "0.51037262493\n",
      "0.518166420457\n",
      "0.523540573583\n",
      "0.546272477204\n",
      "0.467417604809\n",
      "0.54134404768\n",
      "0.48972925475\n",
      "0.523591513423\n",
      "0.519484488819\n",
      "0.523317711782\n",
      "0.0101624980898\n",
      "0.0\n",
      "0.0\n",
      "0.0\n",
      "0.0\n",
      "0.0\n",
      "0.0\n",
      "0.0\n",
      "0.0\n",
      "0.0\n",
      "0.0\n",
      "(0.00070299999999999996, 100, 0.57558198767255875)\n"
     ]
    },
    {
     "name": "stderr",
     "output_type": "stream",
     "text": [
      "/usr/lib/python2.7/site-packages/ipykernel/__main__.py:8: RuntimeWarning: overflow encountered in double_scalars\n",
      "/usr/lib/python2.7/site-packages/ipykernel/__main__.py:9: RuntimeWarning: overflow encountered in double_scalars\n"
     ]
    }
   ],
   "source": [
    "X_train, X_test, Y_train, Y_test = train_test_split(X, Y, test_size = 0.1)\n",
    "clist = [0.0, 0.01, 0.1, 1, 10, 100, 1000, 10000]\n",
    "alphalist = np.linspace(0.00001, 0.001, num = 11)\n",
    "# alphalist = [0.0005]\n",
    "best_value = 0\n",
    "best_c = 0\n",
    "best_alpha = 0\n",
    "iters = 500\n",
    "for C in clist:\n",
    "    for alpha in alphalist:\n",
    "        probs = LogisticRegression().fit(X_train, Y_train, alpha, C, iters).predict_proba(X_test)\n",
    "        tpr, fpr, value = auroc(probs, Y_test)\n",
    "        print(value)\n",
    "        if value > best_value:\n",
    "            best_value = value\n",
    "            best_c = C\n",
    "            best_alpha = alpha\n",
    "print(best_alpha, best_c, best_value)"
   ]
  },
  {
   "cell_type": "markdown",
   "metadata": {},
   "source": [
    "Выбираем наилучшее значение $C$, и классифицируем неизвестных пользователей и строим ROC-кривую"
   ]
  },
  {
   "cell_type": "code",
   "execution_count": 203,
   "metadata": {
    "collapsed": false
   },
   "outputs": [
    {
     "name": "stdout",
     "output_type": "stream",
     "text": [
      "Area under the ROC curve : 0.514374\n"
     ]
    },
    {
     "data": {
      "image/png": "[encoded data removed]",
      "text/plain": [
       "<matplotlib.figure.Figure at 0x7fc32f58af90>"
      ]
     },
     "metadata": {},
     "output_type": "display_data"
    }
   ],
   "source": [
    "def classify(X, Y, test_size_param, alpha_param, C_param, iters_param):\n",
    "    X_train, X_test, Y_train, Y_test = train_test_split(X, Y, test_size = test_size_param)\n",
    "    probs = LogisticRegression().fit(X_train, Y_train, alpha_param, C_param, iters_param).predict_proba(X_test)\n",
    "    tpr, fpr, roc_auc = auroc(probs, Y_test)\n",
    "    return tpr, fpr, roc_auc\n",
    "\n",
    "tpr, fpr, roc_auc = classify(X, Y, 0.1, best_alpha, best_c, iters)\n",
    "\n",
    "print \"Area under the ROC curve : %f\" % roc_auc\n",
    "\n",
    "def plot_roc_curve(tpr, fpr, roc_auc):\n",
    "    pl.figure(figsize = (4, 4))\n",
    "    pl.plot(fpr, tpr)\n",
    "    pl.xlabel('FPR')\n",
    "    pl.ylabel('TPR')\n",
    "\n",
    "plot_roc_curve(tpr, fpr, roc_auc)"
   ]
  },
  {
   "cell_type": "markdown",
   "metadata": {},
   "source": [
    "С помощью полученной модели предсказываем категории для неизвестных пользователей из соревнования и загружаем на kaggle в нужном формате. ДЗ принимается только при наличии загруженных данных на kaggle."
   ]
  }
 ],
 "metadata": {
  "kernelspec": {
   "display_name": "Python 2",
   "language": "python2",
   "name": "python2"
  },
  "language_info": {
   "codemirror_mode": {
    "name": "ipython",
    "version": 2
   },
   "file_extension": ".py",
   "mimetype": "text/x-python",
   "name": "python",
   "nbconvert_exporter": "python",
   "pygments_lexer": "ipython2",
   "version": "2.7.12"
  }
 },
 "nbformat": 4,
 "nbformat_minor": 0
}
