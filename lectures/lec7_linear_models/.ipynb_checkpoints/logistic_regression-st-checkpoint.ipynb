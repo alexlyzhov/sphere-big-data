{
 "cells": [
  {
   "cell_type": "code",
   "execution_count": 1,
   "metadata": {
    "collapsed": false
   },
   "outputs": [
    {
     "name": "stdout",
     "output_type": "stream",
     "text": [
      "Populating the interactive namespace from numpy and matplotlib\n"
     ]
    },
    {
     "name": "stderr",
     "output_type": "stream",
     "text": [
      "/usr/lib/python2.7/site-packages/sklearn/cross_validation.py:44: DeprecationWarning: This module was deprecated in version 0.18 in favor of the model_selection module into which all the refactored classes and functions are moved. Also note that the interface of the new CV iterators are different from that of this module. This module will be removed in 0.20.\n",
      "  \"This module will be removed in 0.20.\", DeprecationWarning)\n"
     ]
    }
   ],
   "source": [
    "%pylab inline\n",
    "import numpy as np\n",
    "from sklearn import datasets\n",
    "from matplotlib import pyplot as plt\n",
    "from sklearn.cross_validation import train_test_split\n",
    "#import seaborn"
   ]
  },
  {
   "cell_type": "markdown",
   "metadata": {},
   "source": [
    "##### Загружаем dataset"
   ]
  },
  {
   "cell_type": "code",
   "execution_count": 2,
   "metadata": {
    "collapsed": true
   },
   "outputs": [],
   "source": [
    "iris = datasets.load_iris()\n",
    "data = iris['data']"
   ]
  },
  {
   "cell_type": "code",
   "execution_count": 10,
   "metadata": {
    "collapsed": false
   },
   "outputs": [
    {
     "data": {
      "text/plain": [
       "{'DESCR': 'Iris Plants Database\\n====================\\n\\nNotes\\n-----\\nData Set Characteristics:\\n    :Number of Instances: 150 (50 in each of three classes)\\n    :Number of Attributes: 4 numeric, predictive attributes and the class\\n    :Attribute Information:\\n        - sepal length in cm\\n        - sepal width in cm\\n        - petal length in cm\\n        - petal width in cm\\n        - class:\\n                - Iris-Setosa\\n                - Iris-Versicolour\\n                - Iris-Virginica\\n    :Summary Statistics:\\n\\n    ============== ==== ==== ======= ===== ====================\\n                    Min  Max   Mean    SD   Class Correlation\\n    ============== ==== ==== ======= ===== ====================\\n    sepal length:   4.3  7.9   5.84   0.83    0.7826\\n    sepal width:    2.0  4.4   3.05   0.43   -0.4194\\n    petal length:   1.0  6.9   3.76   1.76    0.9490  (high!)\\n    petal width:    0.1  2.5   1.20  0.76     0.9565  (high!)\\n    ============== ==== ==== ======= ===== ====================\\n\\n    :Missing Attribute Values: None\\n    :Class Distribution: 33.3% for each of 3 classes.\\n    :Creator: R.A. Fisher\\n    :Donor: Michael Marshall (MARSHALL%PLU@io.arc.nasa.gov)\\n    :Date: July, 1988\\n\\nThis is a copy of UCI ML iris datasets.\\nhttp://archive.ics.uci.edu/ml/datasets/Iris\\n\\nThe famous Iris database, first used by Sir R.A Fisher\\n\\nThis is perhaps the best known database to be found in the\\npattern recognition literature.  Fisher\\'s paper is a classic in the field and\\nis referenced frequently to this day.  (See Duda & Hart, for example.)  The\\ndata set contains 3 classes of 50 instances each, where each class refers to a\\ntype of iris plant.  One class is linearly separable from the other 2; the\\nlatter are NOT linearly separable from each other.\\n\\nReferences\\n----------\\n   - Fisher,R.A. \"The use of multiple measurements in taxonomic problems\"\\n     Annual Eugenics, 7, Part II, 179-188 (1936); also in \"Contributions to\\n     Mathematical Statistics\" (John Wiley, NY, 1950).\\n   - Duda,R.O., & Hart,P.E. (1973) Pattern Classification and Scene Analysis.\\n     (Q327.D83) John Wiley & Sons.  ISBN 0-471-22361-1.  See page 218.\\n   - Dasarathy, B.V. (1980) \"Nosing Around the Neighborhood: A New System\\n     Structure and Classification Rule for Recognition in Partially Exposed\\n     Environments\".  IEEE Transactions on Pattern Analysis and Machine\\n     Intelligence, Vol. PAMI-2, No. 1, 67-71.\\n   - Gates, G.W. (1972) \"The Reduced Nearest Neighbor Rule\".  IEEE Transactions\\n     on Information Theory, May 1972, 431-433.\\n   - See also: 1988 MLC Proceedings, 54-64.  Cheeseman et al\"s AUTOCLASS II\\n     conceptual clustering system finds 3 classes in the data.\\n   - Many, many more ...\\n',\n",
       " 'data': array([[ 5.1,  3.5,  1.4,  0.2],\n",
       "        [ 4.9,  3. ,  1.4,  0.2],\n",
       "        [ 4.7,  3.2,  1.3,  0.2],\n",
       "        [ 4.6,  3.1,  1.5,  0.2],\n",
       "        [ 5. ,  3.6,  1.4,  0.2],\n",
       "        [ 5.4,  3.9,  1.7,  0.4],\n",
       "        [ 4.6,  3.4,  1.4,  0.3],\n",
       "        [ 5. ,  3.4,  1.5,  0.2],\n",
       "        [ 4.4,  2.9,  1.4,  0.2],\n",
       "        [ 4.9,  3.1,  1.5,  0.1],\n",
       "        [ 5.4,  3.7,  1.5,  0.2],\n",
       "        [ 4.8,  3.4,  1.6,  0.2],\n",
       "        [ 4.8,  3. ,  1.4,  0.1],\n",
       "        [ 4.3,  3. ,  1.1,  0.1],\n",
       "        [ 5.8,  4. ,  1.2,  0.2],\n",
       "        [ 5.7,  4.4,  1.5,  0.4],\n",
       "        [ 5.4,  3.9,  1.3,  0.4],\n",
       "        [ 5.1,  3.5,  1.4,  0.3],\n",
       "        [ 5.7,  3.8,  1.7,  0.3],\n",
       "        [ 5.1,  3.8,  1.5,  0.3],\n",
       "        [ 5.4,  3.4,  1.7,  0.2],\n",
       "        [ 5.1,  3.7,  1.5,  0.4],\n",
       "        [ 4.6,  3.6,  1. ,  0.2],\n",
       "        [ 5.1,  3.3,  1.7,  0.5],\n",
       "        [ 4.8,  3.4,  1.9,  0.2],\n",
       "        [ 5. ,  3. ,  1.6,  0.2],\n",
       "        [ 5. ,  3.4,  1.6,  0.4],\n",
       "        [ 5.2,  3.5,  1.5,  0.2],\n",
       "        [ 5.2,  3.4,  1.4,  0.2],\n",
       "        [ 4.7,  3.2,  1.6,  0.2],\n",
       "        [ 4.8,  3.1,  1.6,  0.2],\n",
       "        [ 5.4,  3.4,  1.5,  0.4],\n",
       "        [ 5.2,  4.1,  1.5,  0.1],\n",
       "        [ 5.5,  4.2,  1.4,  0.2],\n",
       "        [ 4.9,  3.1,  1.5,  0.1],\n",
       "        [ 5. ,  3.2,  1.2,  0.2],\n",
       "        [ 5.5,  3.5,  1.3,  0.2],\n",
       "        [ 4.9,  3.1,  1.5,  0.1],\n",
       "        [ 4.4,  3. ,  1.3,  0.2],\n",
       "        [ 5.1,  3.4,  1.5,  0.2],\n",
       "        [ 5. ,  3.5,  1.3,  0.3],\n",
       "        [ 4.5,  2.3,  1.3,  0.3],\n",
       "        [ 4.4,  3.2,  1.3,  0.2],\n",
       "        [ 5. ,  3.5,  1.6,  0.6],\n",
       "        [ 5.1,  3.8,  1.9,  0.4],\n",
       "        [ 4.8,  3. ,  1.4,  0.3],\n",
       "        [ 5.1,  3.8,  1.6,  0.2],\n",
       "        [ 4.6,  3.2,  1.4,  0.2],\n",
       "        [ 5.3,  3.7,  1.5,  0.2],\n",
       "        [ 5. ,  3.3,  1.4,  0.2],\n",
       "        [ 7. ,  3.2,  4.7,  1.4],\n",
       "        [ 6.4,  3.2,  4.5,  1.5],\n",
       "        [ 6.9,  3.1,  4.9,  1.5],\n",
       "        [ 5.5,  2.3,  4. ,  1.3],\n",
       "        [ 6.5,  2.8,  4.6,  1.5],\n",
       "        [ 5.7,  2.8,  4.5,  1.3],\n",
       "        [ 6.3,  3.3,  4.7,  1.6],\n",
       "        [ 4.9,  2.4,  3.3,  1. ],\n",
       "        [ 6.6,  2.9,  4.6,  1.3],\n",
       "        [ 5.2,  2.7,  3.9,  1.4],\n",
       "        [ 5. ,  2. ,  3.5,  1. ],\n",
       "        [ 5.9,  3. ,  4.2,  1.5],\n",
       "        [ 6. ,  2.2,  4. ,  1. ],\n",
       "        [ 6.1,  2.9,  4.7,  1.4],\n",
       "        [ 5.6,  2.9,  3.6,  1.3],\n",
       "        [ 6.7,  3.1,  4.4,  1.4],\n",
       "        [ 5.6,  3. ,  4.5,  1.5],\n",
       "        [ 5.8,  2.7,  4.1,  1. ],\n",
       "        [ 6.2,  2.2,  4.5,  1.5],\n",
       "        [ 5.6,  2.5,  3.9,  1.1],\n",
       "        [ 5.9,  3.2,  4.8,  1.8],\n",
       "        [ 6.1,  2.8,  4. ,  1.3],\n",
       "        [ 6.3,  2.5,  4.9,  1.5],\n",
       "        [ 6.1,  2.8,  4.7,  1.2],\n",
       "        [ 6.4,  2.9,  4.3,  1.3],\n",
       "        [ 6.6,  3. ,  4.4,  1.4],\n",
       "        [ 6.8,  2.8,  4.8,  1.4],\n",
       "        [ 6.7,  3. ,  5. ,  1.7],\n",
       "        [ 6. ,  2.9,  4.5,  1.5],\n",
       "        [ 5.7,  2.6,  3.5,  1. ],\n",
       "        [ 5.5,  2.4,  3.8,  1.1],\n",
       "        [ 5.5,  2.4,  3.7,  1. ],\n",
       "        [ 5.8,  2.7,  3.9,  1.2],\n",
       "        [ 6. ,  2.7,  5.1,  1.6],\n",
       "        [ 5.4,  3. ,  4.5,  1.5],\n",
       "        [ 6. ,  3.4,  4.5,  1.6],\n",
       "        [ 6.7,  3.1,  4.7,  1.5],\n",
       "        [ 6.3,  2.3,  4.4,  1.3],\n",
       "        [ 5.6,  3. ,  4.1,  1.3],\n",
       "        [ 5.5,  2.5,  4. ,  1.3],\n",
       "        [ 5.5,  2.6,  4.4,  1.2],\n",
       "        [ 6.1,  3. ,  4.6,  1.4],\n",
       "        [ 5.8,  2.6,  4. ,  1.2],\n",
       "        [ 5. ,  2.3,  3.3,  1. ],\n",
       "        [ 5.6,  2.7,  4.2,  1.3],\n",
       "        [ 5.7,  3. ,  4.2,  1.2],\n",
       "        [ 5.7,  2.9,  4.2,  1.3],\n",
       "        [ 6.2,  2.9,  4.3,  1.3],\n",
       "        [ 5.1,  2.5,  3. ,  1.1],\n",
       "        [ 5.7,  2.8,  4.1,  1.3],\n",
       "        [ 6.3,  3.3,  6. ,  2.5],\n",
       "        [ 5.8,  2.7,  5.1,  1.9],\n",
       "        [ 7.1,  3. ,  5.9,  2.1],\n",
       "        [ 6.3,  2.9,  5.6,  1.8],\n",
       "        [ 6.5,  3. ,  5.8,  2.2],\n",
       "        [ 7.6,  3. ,  6.6,  2.1],\n",
       "        [ 4.9,  2.5,  4.5,  1.7],\n",
       "        [ 7.3,  2.9,  6.3,  1.8],\n",
       "        [ 6.7,  2.5,  5.8,  1.8],\n",
       "        [ 7.2,  3.6,  6.1,  2.5],\n",
       "        [ 6.5,  3.2,  5.1,  2. ],\n",
       "        [ 6.4,  2.7,  5.3,  1.9],\n",
       "        [ 6.8,  3. ,  5.5,  2.1],\n",
       "        [ 5.7,  2.5,  5. ,  2. ],\n",
       "        [ 5.8,  2.8,  5.1,  2.4],\n",
       "        [ 6.4,  3.2,  5.3,  2.3],\n",
       "        [ 6.5,  3. ,  5.5,  1.8],\n",
       "        [ 7.7,  3.8,  6.7,  2.2],\n",
       "        [ 7.7,  2.6,  6.9,  2.3],\n",
       "        [ 6. ,  2.2,  5. ,  1.5],\n",
       "        [ 6.9,  3.2,  5.7,  2.3],\n",
       "        [ 5.6,  2.8,  4.9,  2. ],\n",
       "        [ 7.7,  2.8,  6.7,  2. ],\n",
       "        [ 6.3,  2.7,  4.9,  1.8],\n",
       "        [ 6.7,  3.3,  5.7,  2.1],\n",
       "        [ 7.2,  3.2,  6. ,  1.8],\n",
       "        [ 6.2,  2.8,  4.8,  1.8],\n",
       "        [ 6.1,  3. ,  4.9,  1.8],\n",
       "        [ 6.4,  2.8,  5.6,  2.1],\n",
       "        [ 7.2,  3. ,  5.8,  1.6],\n",
       "        [ 7.4,  2.8,  6.1,  1.9],\n",
       "        [ 7.9,  3.8,  6.4,  2. ],\n",
       "        [ 6.4,  2.8,  5.6,  2.2],\n",
       "        [ 6.3,  2.8,  5.1,  1.5],\n",
       "        [ 6.1,  2.6,  5.6,  1.4],\n",
       "        [ 7.7,  3. ,  6.1,  2.3],\n",
       "        [ 6.3,  3.4,  5.6,  2.4],\n",
       "        [ 6.4,  3.1,  5.5,  1.8],\n",
       "        [ 6. ,  3. ,  4.8,  1.8],\n",
       "        [ 6.9,  3.1,  5.4,  2.1],\n",
       "        [ 6.7,  3.1,  5.6,  2.4],\n",
       "        [ 6.9,  3.1,  5.1,  2.3],\n",
       "        [ 5.8,  2.7,  5.1,  1.9],\n",
       "        [ 6.8,  3.2,  5.9,  2.3],\n",
       "        [ 6.7,  3.3,  5.7,  2.5],\n",
       "        [ 6.7,  3. ,  5.2,  2.3],\n",
       "        [ 6.3,  2.5,  5. ,  1.9],\n",
       "        [ 6.5,  3. ,  5.2,  2. ],\n",
       "        [ 6.2,  3.4,  5.4,  2.3],\n",
       "        [ 5.9,  3. ,  5.1,  1.8]]),\n",
       " 'feature_names': ['sepal length (cm)',\n",
       "  'sepal width (cm)',\n",
       "  'petal length (cm)',\n",
       "  'petal width (cm)'],\n",
       " 'target': array([0, 0, 0, 0, 0, 0, 0, 0, 0, 0, 0, 0, 0, 0, 0, 0, 0, 0, 0, 0, 0, 0, 0,\n",
       "        0, 0, 0, 0, 0, 0, 0, 0, 0, 0, 0, 0, 0, 0, 0, 0, 0, 0, 0, 0, 0, 0, 0,\n",
       "        0, 0, 0, 0, 1, 1, 1, 1, 1, 1, 1, 1, 1, 1, 1, 1, 1, 1, 1, 1, 1, 1, 1,\n",
       "        1, 1, 1, 1, 1, 1, 1, 1, 1, 1, 1, 1, 1, 1, 1, 1, 1, 1, 1, 1, 1, 1, 1,\n",
       "        1, 1, 1, 1, 1, 1, 1, 1, 2, 2, 2, 2, 2, 2, 2, 2, 2, 2, 2, 2, 2, 2, 2,\n",
       "        2, 2, 2, 2, 2, 2, 2, 2, 2, 2, 2, 2, 2, 2, 2, 2, 2, 2, 2, 2, 2, 2, 2,\n",
       "        2, 2, 2, 2, 2, 2, 2, 2, 2, 2, 2, 2]),\n",
       " 'target_names': array(['setosa', 'versicolor', 'virginica'], \n",
       "       dtype='<U10')}"
      ]
     },
     "execution_count": 10,
     "metadata": {},
     "output_type": "execute_result"
    }
   ],
   "source": [
    "iris"
   ]
  },
  {
   "cell_type": "code",
   "execution_count": 11,
   "metadata": {
    "collapsed": false
   },
   "outputs": [
    {
     "data": {
      "text/plain": [
       "array([0, 0, 0, 0, 0, 0, 0, 0, 0, 0, 0, 0, 0, 0, 0, 0, 0, 0, 0, 0, 0, 0, 0,\n",
       "       0, 0, 0, 0, 0, 0, 0, 0, 0, 0, 0, 0, 0, 0, 0, 0, 0, 0, 0, 0, 0, 0, 0,\n",
       "       0, 0, 0, 0, 1, 1, 1, 1, 1, 1, 1, 1, 1, 1, 1, 1, 1, 1, 1, 1, 1, 1, 1,\n",
       "       1, 1, 1, 1, 1, 1, 1, 1, 1, 1, 1, 1, 1, 1, 1, 1, 1, 1, 1, 1, 1, 1, 1,\n",
       "       1, 1, 1, 1, 1, 1, 1, 1, 2, 2, 2, 2, 2, 2, 2, 2, 2, 2, 2, 2, 2, 2, 2,\n",
       "       2, 2, 2, 2, 2, 2, 2, 2, 2, 2, 2, 2, 2, 2, 2, 2, 2, 2, 2, 2, 2, 2, 2,\n",
       "       2, 2, 2, 2, 2, 2, 2, 2, 2, 2, 2, 2])"
      ]
     },
     "execution_count": 11,
     "metadata": {},
     "output_type": "execute_result"
    }
   ],
   "source": [
    "iris['target']"
   ]
  },
  {
   "cell_type": "markdown",
   "metadata": {},
   "source": [
    "#### Постройте 2 графика \n",
    "1. По оси X -- Sepal length, по оси Y -- Sepal width\n",
    "2. По оси X -- Petal length, по оси Y -- Petal width\n",
    "\n",
    "Тип ириса отобразить цветом"
   ]
  },
  {
   "cell_type": "code",
   "execution_count": 22,
   "metadata": {
    "collapsed": false,
    "scrolled": false
   },
   "outputs": [],
   "source": [
    "# example"
   ]
  },
  {
   "cell_type": "code",
   "execution_count": 23,
   "metadata": {
    "collapsed": false
   },
   "outputs": [
    {
     "data": {
      "text/plain": [
       "<matplotlib.collections.PathCollection at 0x7fe5bc139a20>"
      ]
     },
     "execution_count": 23,
     "metadata": {},
     "output_type": "execute_result"
    },
    {
     "data": {
      "image/png": "[encoded data removed]",
      "text/plain": [
       "<matplotlib.figure.Figure at 0x7fe5bbce17b8>"
      ]
     },
     "metadata": {},
     "output_type": "display_data"
    }
   ],
   "source": [
    "plt.figure(figsize = (8, 4))\n",
    "plt.subplot(121)\n",
    "plt.scatter(data[:, 0], data[:, 1], c = iris['target'])\n",
    "plt.subplot(122)\n",
    "plt.scatter(data[:, 2], data[:, 3], c = iris['target'])"
   ]
  },
  {
   "cell_type": "markdown",
   "metadata": {},
   "source": [
    "Будем строить логистическую регрессию, который определяет относится ли ирис к типу setosa. Для этого, преобразуем исходный вектор iris['target'] следующим образом:\n",
    "1. Для наблюдений с меткой setosa поставим -- 1\n",
    "2. Для всех остальных наблюдений -- 0"
   ]
  },
  {
   "cell_type": "code",
   "execution_count": 8,
   "metadata": {
    "collapsed": false
   },
   "outputs": [],
   "source": [
    "iris['setosa_target'] = [int(i==0) for i in iris['target']]"
   ]
  },
  {
   "cell_type": "markdown",
   "metadata": {},
   "source": [
    "#### Разделим данные на обучающую и тестовые выборки"
   ]
  },
  {
   "cell_type": "code",
   "execution_count": 9,
   "metadata": {
    "collapsed": false
   },
   "outputs": [],
   "source": [
    "X = data\n",
    "y = iris['setosa_target']"
   ]
  },
  {
   "cell_type": "code",
   "execution_count": 10,
   "metadata": {
    "collapsed": false
   },
   "outputs": [],
   "source": [
    "X_train, X_test, y_train, y_test = train_test_split( X, y, test_size=0.33, random_state=42)"
   ]
  },
  {
   "cell_type": "markdown",
   "metadata": {},
   "source": [
    "##### Реализуйте функцию sigmoid"
   ]
  },
  {
   "cell_type": "code",
   "execution_count": 75,
   "metadata": {
    "collapsed": true
   },
   "outputs": [],
   "source": [
    "def sigmoid(z):\n",
    "    return 1 / (1 + exp(-z))"
   ]
  },
  {
   "cell_type": "markdown",
   "metadata": {},
   "source": [
    "##### Реализуйте функцию потерь (J)"
   ]
  },
  {
   "cell_type": "code",
   "execution_count": 76,
   "metadata": {
    "collapsed": true
   },
   "outputs": [],
   "source": [
    "def h(x, theta):\n",
    "    return sigmoid(sum([x[j] * theta[j] for j in xrange(len(x))]))"
   ]
  },
  {
   "cell_type": "code",
   "execution_count": 77,
   "metadata": {
    "collapsed": false
   },
   "outputs": [],
   "source": [
    "def compute_cost(X, y, theta): \n",
    "    J = 0\n",
    "    for i in xrange(len(X)):\n",
    "        prob = h(X[i], theta)\n",
    "        J -= y[i] * log(prob)\n",
    "        J -= (1 - y[i]) * log(1 - prob)\n",
    "    J /= len(X)\n",
    "    return J"
   ]
  },
  {
   "cell_type": "markdown",
   "metadata": {},
   "source": [
    "#### Реализуйте функцию градиента целевой функции логистической регрессии"
   ]
  },
  {
   "cell_type": "code",
   "execution_count": 74,
   "metadata": {
    "collapsed": false,
    "scrolled": true
   },
   "outputs": [
    {
     "data": {
      "text/plain": [
       "[-0.49364074433408245,\n",
       " -0.61908748659876545,\n",
       " -0.45649589700874305,\n",
       " -0.48342840272565379,\n",
       " -0.4182004798575889,\n",
       " -0.35587775910279118,\n",
       " -0.29184652403251365,\n",
       " -0.50886218941395833,\n",
       " -0.4787381109743003,\n",
       " -0.65276806745323723,\n",
       " -0.53429597610226287,\n",
       " -0.44864337001734034,\n",
       " -0.6445673912590425,\n",
       " -0.42960950926380526,\n",
       " -0.52459658087946237,\n",
       " -0.24297383558086474,\n",
       " -0.30903351655465128,\n",
       " -0.43219589965697869,\n",
       " -0.56469274829004146,\n",
       " -0.32548098691501237,\n",
       " -0.67614407075533445,\n",
       " -0.30351146669757567,\n",
       " -0.22749647724214311,\n",
       " -0.4233900411332106,\n",
       " -0.48377655192844526,\n",
       " -0.67847454788966177,\n",
       " -0.39768356069678579,\n",
       " -0.54131674498794424,\n",
       " -0.56908100881057644,\n",
       " -0.49162907891984797,\n",
       " -0.56706934339634174,\n",
       " -0.52983226012705698,\n",
       " -0.3659096429070452,\n",
       " -0.36117323318371836,\n",
       " -0.65276806745323723,\n",
       " -0.55267965642218742,\n",
       " -0.62578944376435353,\n",
       " -0.65276806745323723,\n",
       " -0.42755172587759815,\n",
       " -0.54482712943078482,\n",
       " -0.38451989900311734,\n",
       " -0.67839909243499097,\n",
       " -0.34860107695826381,\n",
       " -0.23531854688291104,\n",
       " -0.31088038478604851,\n",
       " -0.52167770190483498,\n",
       " -0.39863689222915111,\n",
       " -0.43224201762895142,\n",
       " -0.49833103608543616,\n",
       " -0.53662645323659031,\n",
       " -0.94452744292969681,\n",
       " -0.64387083687756408,\n",
       " -0.91001510396950391,\n",
       " -0.73979868303216278,\n",
       " -0.84944813537009445,\n",
       " -0.67290724395265511,\n",
       " -0.53040784899803672,\n",
       " -0.58689082804360326,\n",
       " -0.96882744028146117,\n",
       " -0.40084665982887624,\n",
       " -0.80417918717316816,\n",
       " -0.50786360380166107,\n",
       " -1.1434332416072737,\n",
       " -0.73926895615725963,\n",
       " -0.49206743374284612,\n",
       " -0.84097476542777994,\n",
       " -0.43510196566228609,\n",
       " -0.88583779991232003,\n",
       " -0.96669420144058282,\n",
       " -0.80799160284682725,\n",
       " -0.31484478467322541,\n",
       " -0.75821170083478573,\n",
       " -0.93107741062654781,\n",
       " -0.90163396997113454,\n",
       " -0.86176437833670327,\n",
       " -0.84448514987062051,\n",
       " -1.0422099213717477,\n",
       " -0.76638191967834524,\n",
       " -0.61843705018925976,\n",
       " -0.81908182053295076,\n",
       " -0.79979092665263307,\n",
       " -0.84952471069270186,\n",
       " -0.73952598928404256,\n",
       " -0.7062092182537002,\n",
       " -0.36317208562863357,\n",
       " -0.35961558321382026,\n",
       " -0.81466310266178099,\n",
       " -1.074362445714915,\n",
       " -0.51114741246835371,\n",
       " -0.66084803411282844,\n",
       " -0.72966179687840482,\n",
       " -0.68808257106055737,\n",
       " -0.7907123743807446,\n",
       " -0.66233109252009681,\n",
       " -0.64128444648439031,\n",
       " -0.62026825779931938,\n",
       " -0.5982987375818829,\n",
       " -0.7898344983030503,\n",
       " -0.52276735702938026,\n",
       " -0.62606300140451521,\n",
       " -0.12964803518555779,\n",
       " -0.44994480418873617,\n",
       " -0.76986184677055114,\n",
       " -0.67081900321581278,\n",
       " -0.4809163013554536,\n",
       " -1.0316639713139284,\n",
       " -0.25783431848862959,\n",
       " -1.1124458278433225,\n",
       " -0.99600218239585736,\n",
       " -0.34661758259502995,\n",
       " -0.44287791733108173,\n",
       " -0.68915656556376503,\n",
       " -0.61512278417193178,\n",
       " -0.41977460777710518,\n",
       " -0.1032452563435502,\n",
       " -0.24600056455701402,\n",
       " -0.69156249815276372,\n",
       " -0.70209253161334884,\n",
       " -1.1377737017263212,\n",
       " -0.95331962459210473,\n",
       " -0.47266950718928635,\n",
       " -0.25367263374424209,\n",
       " -1.2197354655642283,\n",
       " -0.66779222767590252,\n",
       " -0.48415399205017362,\n",
       " -0.92292173253638943,\n",
       " -0.58064090256237377,\n",
       " -0.47743637426324748,\n",
       " -0.56192473366099516,\n",
       " -1.1013399495358613,\n",
       " -1.1030191263686429,\n",
       " -0.8617789190901044,\n",
       " -0.50047988898389151,\n",
       " -0.83607355852161636,\n",
       " -0.96309447526957581,\n",
       " -0.8861839187913727,\n",
       " -0.10477331285485447,\n",
       " -0.61612223367627017,\n",
       " -0.42976037360938624,\n",
       " -0.59990133909205623,\n",
       " -0.36705904630116182,\n",
       " -0.44187846782674378,\n",
       " -0.44994480418873617,\n",
       " -0.46012668844652982,\n",
       " -0.2383746133417588,\n",
       " -0.42113497288979307,\n",
       " -0.69700909255516796,\n",
       " -0.53353962688745127,\n",
       " -0.10683109624106191,\n",
       " -0.42892861550366468]"
      ]
     },
     "execution_count": 74,
     "metadata": {},
     "output_type": "execute_result"
    }
   ],
   "source": [
    "[sum([X[i, j] * theta[j] for j in xrange(len(X[i]))]) for i in xrange(len(X))]"
   ]
  },
  {
   "cell_type": "code",
   "execution_count": 78,
   "metadata": {
    "collapsed": false
   },
   "outputs": [],
   "source": [
    "def cost_function_gradient(X, y, theta):\n",
    "    gradient = np.empty(len(theta))\n",
    "    for j in xrange(len(gradient)):\n",
    "        for i in xrange(len(X)):\n",
    "            gradient[j] += (h(X[i], theta) - y[i]) * X[i, j]\n",
    "    gradient /= len(X)\n",
    "    return gradient"
   ]
  },
  {
   "cell_type": "code",
   "execution_count": 79,
   "metadata": {
    "collapsed": false
   },
   "outputs": [
    {
     "data": {
      "text/plain": [
       "array([ 4.16049903,  1.92254749,  3.26667871,  1.12470575])"
      ]
     },
     "execution_count": 79,
     "metadata": {},
     "output_type": "execute_result"
    }
   ],
   "source": [
    "cost_function_gradient(X, y, [1, 1, 2, 1])"
   ]
  },
  {
   "cell_type": "markdown",
   "metadata": {},
   "source": [
    "#### Реализуйте градиентный спуск"
   ]
  },
  {
   "cell_type": "code",
   "execution_count": 80,
   "metadata": {
    "collapsed": false
   },
   "outputs": [],
   "source": [
    "def gradient_descent( alpha, X, y, tol, max_iter):\n",
    "    theta = np.full(len(X[0]), 1)\n",
    "    cost_values = []\n",
    "    for iteration in xrange(max_iter):\n",
    "        imp = alpha * cost_function_gradient(X, y, theta)\n",
    "        theta = theta - imp\n",
    "        cost_values.append(compute_cost(X, y, theta))\n",
    "        if (abs(imp) < tol).all():\n",
    "            break\n",
    "    return theta, cost_values"
   ]
  },
  {
   "cell_type": "markdown",
   "metadata": {},
   "source": [
    "Запустите функцию с разными параметрами. Постройте график cost_function_values"
   ]
  },
  {
   "cell_type": "code",
   "execution_count": 81,
   "metadata": {
    "collapsed": false
   },
   "outputs": [
    {
     "name": "stdout",
     "output_type": "stream",
     "text": [
      "[-0.3596494   0.39475324 -0.11711061  0.61444845]\n",
      "39\n"
     ]
    }
   ],
   "source": [
    "theta, cost_func = gradient_descent( 0.01, X_train, y_train, 0.01, 100)\n",
    "print theta\n",
    "print len(cost_func)"
   ]
  },
  {
   "cell_type": "code",
   "execution_count": 82,
   "metadata": {
    "collapsed": false
   },
   "outputs": [
    {
     "data": {
      "text/plain": [
       "[<matplotlib.lines.Line2D at 0x7ff66a5e7110>]"
      ]
     },
     "execution_count": 82,
     "metadata": {},
     "output_type": "execute_result"
    },
    {
     "data": {
      "image/png": "[encoded data removed]",
      "text/plain": [
       "<matplotlib.figure.Figure at 0x7ff66a5e7090>"
      ]
     },
     "metadata": {},
     "output_type": "display_data"
    }
   ],
   "source": [
    "plt.plot(cost_func)"
   ]
  },
  {
   "cell_type": "markdown",
   "metadata": {},
   "source": [
    "##### Реализуйте функцию, которая предсказывает класс и вычисляет вероятность наблюдению принадлежать целевому классу"
   ]
  },
  {
   "cell_type": "code",
   "execution_count": 83,
   "metadata": {
    "collapsed": false
   },
   "outputs": [
    {
     "data": {
      "text/plain": [
       "array([ 0.39313009, -0.03915429,  4.26447148,  2.71740002])"
      ]
     },
     "execution_count": 83,
     "metadata": {},
     "output_type": "execute_result"
    }
   ],
   "source": [
    "cost_function_gradient(X, y, theta)"
   ]
  },
  {
   "cell_type": "code",
   "execution_count": 68,
   "metadata": {
    "collapsed": false
   },
   "outputs": [],
   "source": [
    "def predict(theta, X, threshold):\n",
    "    probs = [h(elem, theta) for elem in X]\n",
    "    labels = [int(prob >= threshold) for prob in probs]\n",
    "\n",
    "    return labels, probs"
   ]
  },
  {
   "cell_type": "code",
   "execution_count": 69,
   "metadata": {
    "collapsed": false,
    "scrolled": true
   },
   "outputs": [
    {
     "data": {
      "text/plain": [
       "([0,\n",
       "  0,\n",
       "  0,\n",
       "  0,\n",
       "  0,\n",
       "  0,\n",
       "  0,\n",
       "  0,\n",
       "  0,\n",
       "  0,\n",
       "  0,\n",
       "  0,\n",
       "  0,\n",
       "  0,\n",
       "  0,\n",
       "  0,\n",
       "  0,\n",
       "  0,\n",
       "  0,\n",
       "  0,\n",
       "  0,\n",
       "  0,\n",
       "  0,\n",
       "  0,\n",
       "  0,\n",
       "  0,\n",
       "  0,\n",
       "  0,\n",
       "  0,\n",
       "  0,\n",
       "  0,\n",
       "  0,\n",
       "  0,\n",
       "  0,\n",
       "  0,\n",
       "  0,\n",
       "  0,\n",
       "  0,\n",
       "  0,\n",
       "  0,\n",
       "  0,\n",
       "  0,\n",
       "  0,\n",
       "  0,\n",
       "  0,\n",
       "  0,\n",
       "  0,\n",
       "  0,\n",
       "  0,\n",
       "  0,\n",
       "  0,\n",
       "  0,\n",
       "  0,\n",
       "  0,\n",
       "  0,\n",
       "  0,\n",
       "  0,\n",
       "  0,\n",
       "  0,\n",
       "  0,\n",
       "  0,\n",
       "  0,\n",
       "  0,\n",
       "  0,\n",
       "  0,\n",
       "  0,\n",
       "  0,\n",
       "  0,\n",
       "  0,\n",
       "  0,\n",
       "  0,\n",
       "  0,\n",
       "  0,\n",
       "  0,\n",
       "  0,\n",
       "  0,\n",
       "  0,\n",
       "  0,\n",
       "  0,\n",
       "  0,\n",
       "  0,\n",
       "  0,\n",
       "  0,\n",
       "  0,\n",
       "  0,\n",
       "  0,\n",
       "  0,\n",
       "  0,\n",
       "  0,\n",
       "  0,\n",
       "  0,\n",
       "  0,\n",
       "  0,\n",
       "  0,\n",
       "  0,\n",
       "  0,\n",
       "  0,\n",
       "  0,\n",
       "  0,\n",
       "  0,\n",
       "  0,\n",
       "  0,\n",
       "  0,\n",
       "  0,\n",
       "  0,\n",
       "  0,\n",
       "  0,\n",
       "  0,\n",
       "  0,\n",
       "  0,\n",
       "  0,\n",
       "  0,\n",
       "  0,\n",
       "  0,\n",
       "  0,\n",
       "  0,\n",
       "  0,\n",
       "  0,\n",
       "  0,\n",
       "  0,\n",
       "  0,\n",
       "  0,\n",
       "  0,\n",
       "  0,\n",
       "  0,\n",
       "  0,\n",
       "  0,\n",
       "  0,\n",
       "  0,\n",
       "  0,\n",
       "  0,\n",
       "  0,\n",
       "  0,\n",
       "  0,\n",
       "  0,\n",
       "  0,\n",
       "  0,\n",
       "  0,\n",
       "  0,\n",
       "  0,\n",
       "  0,\n",
       "  0,\n",
       "  0,\n",
       "  0,\n",
       "  0,\n",
       "  0,\n",
       "  0,\n",
       "  0,\n",
       "  0,\n",
       "  0],\n",
       " [0.37903627715155985,\n",
       "  0.34998901679073624,\n",
       "  0.38781742296360788,\n",
       "  0.38144288532391779,\n",
       "  0.39694743958701112,\n",
       "  0.41195780920763325,\n",
       "  0.42755186763111952,\n",
       "  0.37546029274770981,\n",
       "  0.3825501461903496,\n",
       "  0.34236603103567437,\n",
       "  0.36951547839148713,\n",
       "  0.38968336535598952,\n",
       "  0.34421480540195115,\n",
       "  0.39421958100437859,\n",
       "  0.37177802904702817,\n",
       "  0.43955362635847661,\n",
       "  0.42335066402661542,\n",
       "  0.3936020930961438,\n",
       "  0.36246234514503956,\n",
       "  0.4193405731824828,\n",
       "  0.33712244868204766,\n",
       "  0.42469930118055621,\n",
       "  0.4433699094696687,\n",
       "  0.39570582832494083,\n",
       "  0.38136074492632915,\n",
       "  0.33660185269647069,\n",
       "  0.40186901633152888,\n",
       "  0.36788132701937359,\n",
       "  0.36144890430200571,\n",
       "  0.37950987345421339,\n",
       "  0.36191333319757679,\n",
       "  0.37055601154453371,\n",
       "  0.409529764557576,\n",
       "  0.41067558896972162,\n",
       "  0.34236603103567437,\n",
       "  0.36524293197193614,\n",
       "  0.34846588063130762,\n",
       "  0.34236603103567437,\n",
       "  0.39471110810864113,\n",
       "  0.36706538513720938,\n",
       "  0.40503721658904207,\n",
       "  0.33661870218611828,\n",
       "  0.41372169733135128,\n",
       "  0.44144034174824764,\n",
       "  0.42289986148684883,\n",
       "  0.37246001462845663,\n",
       "  0.4016398851884031,\n",
       "  0.39359108573633883,\n",
       "  0.37793296159942252,\n",
       "  0.36897270360056933,\n",
       "  0.27998672803991798,\n",
       "  0.344372056357723,\n",
       "  0.28699674651832535,\n",
       "  0.32304816780798562,\n",
       "  0.29954863653861818,\n",
       "  0.33784616620805269,\n",
       "  0.37042176875346544,\n",
       "  0.35734856028406958,\n",
       "  0.27511427991667803,\n",
       "  0.401108937773062,\n",
       "  0.30913226070500116,\n",
       "  0.37569448005435774,\n",
       "  0.24169057148337669,\n",
       "  0.32316402360197133,\n",
       "  0.37940665418048825,\n",
       "  0.30132952685668529,\n",
       "  0.3929086896453246,\n",
       "  0.29196950562113261,\n",
       "  0.2755399081138929,\n",
       "  0.3083186380045313,\n",
       "  0.42193262452642588,\n",
       "  0.31903465117039342,\n",
       "  0.28270618237996487,\n",
       "  0.28871483181735547,\n",
       "  0.29697084831430853,\n",
       "  0.30059100128195232,\n",
       "  0.26072381322482246,\n",
       "  0.31726228886763741,\n",
       "  0.3501370033648748,\n",
       "  0.30595859866043051,\n",
       "  0.31007024346490863,\n",
       "  0.29953256980841853,\n",
       "  0.32310780554912905,\n",
       "  0.33043700479578059,\n",
       "  0.4101919109231093,\n",
       "  0.4110526255892985,\n",
       "  0.30689770795143906,\n",
       "  0.25457435322854266,\n",
       "  0.3749245838070443,\n",
       "  0.34054913818494126,\n",
       "  0.32526894815195861,\n",
       "  0.33445975051375954,\n",
       "  0.31201572929459165,\n",
       "  0.34021615851866827,\n",
       "  0.3449562462529927,\n",
       "  0.34972044283669562,\n",
       "  0.35473301218339676,\n",
       "  0.31220420694543261,\n",
       "  0.37220536108116986,\n",
       "  0.34840377538787265,\n",
       "  0.46763331509806288,\n",
       "  0.38937388942959433,\n",
       "  0.31650899233923097,\n",
       "  0.33831347653959204,\n",
       "  0.38203577736630989,\n",
       "  0.26276163581804057,\n",
       "  0.43589615500650131,\n",
       "  0.24741519188613145,\n",
       "  0.26972816570943514,\n",
       "  0.41420288808782751,\n",
       "  0.39105543322201852,\n",
       "  0.33422072569505162,\n",
       "  0.35089150910295469,\n",
       "  0.3965706857723757,\n",
       "  0.47421158965363608,\n",
       "  0.43880814002748925,\n",
       "  0.33368557793829823,\n",
       "  0.33134845002575014,\n",
       "  0.24272934649350592,\n",
       "  0.27821770894210313,\n",
       "  0.38398460199045742,\n",
       "  0.43691974616552298,\n",
       "  0.22798300707061217,\n",
       "  0.33899137408649566,\n",
       "  0.38127170145694667,\n",
       "  0.28436294538284351,\n",
       "  0.3587851353308194,\n",
       "  0.38285767057610426,\n",
       "  0.36310223055857738,\n",
       "  0.24948891242257279,\n",
       "  0.24917462858635636,\n",
       "  0.29696781251693816,\n",
       "  0.37742789973473695,\n",
       "  0.30236238180708364,\n",
       "  0.27625905734685591,\n",
       "  0.2918979599318603,\n",
       "  0.47383060683493067,\n",
       "  0.35066390176801909,\n",
       "  0.3941835535891437,\n",
       "  0.35436626615945127,\n",
       "  0.40925185034894002,\n",
       "  0.39129345911079927,\n",
       "  0.38937388942959433,\n",
       "  0.38695577027005185,\n",
       "  0.44068694051595853,\n",
       "  0.39624519301493621,\n",
       "  0.33247568376153108,\n",
       "  0.36969170531810136,\n",
       "  0.47331759804189871,\n",
       "  0.3943821972918905])"
      ]
     },
     "execution_count": 69,
     "metadata": {},
     "output_type": "execute_result"
    }
   ],
   "source": [
    "predict(theta, X, 0.5)"
   ]
  },
  {
   "cell_type": "markdown",
   "metadata": {},
   "source": [
    "#### Реализуйте функцию, которая вычисляет accuracy"
   ]
  },
  {
   "cell_type": "code",
   "execution_count": 548,
   "metadata": {
    "collapsed": false
   },
   "outputs": [],
   "source": [
    "def accuracy(true_value, predicted_value):\n",
    "    accuracy = 0\n",
    "    return accuracy"
   ]
  },
  {
   "cell_type": "code",
   "execution_count": 549,
   "metadata": {
    "collapsed": false
   },
   "outputs": [
    {
     "name": "stdout",
     "output_type": "stream",
     "text": [
      "Train Accuracy: 100.000000\n",
      "Test Accuracy: 100.000000\n"
     ]
    }
   ],
   "source": [
    "train_predicted_label, train_predicted_prob = predict(array(theta), X_train, 0.5)\n",
    "print 'Train Accuracy: %f' % (accuracy(y_train, train_predicted_label))\n",
    "test_predicted_label, test_predicted_prob  = predict(array(theta), X_test, 0.5)\n",
    "print 'Test Accuracy: %f' % (accuracy(y_test, test_predicted_label))"
   ]
  }
 ],
 "metadata": {
  "kernelspec": {
   "display_name": "Python 2",
   "language": "python2",
   "name": "python2"
  },
  "language_info": {
   "codemirror_mode": {
    "name": "ipython",
    "version": 2
   },
   "file_extension": ".py",
   "mimetype": "text/x-python",
   "name": "python",
   "nbconvert_exporter": "python",
   "pygments_lexer": "ipython2",
   "version": "2.7.12"
  }
 },
 "nbformat": 4,
 "nbformat_minor": 0
}
